{
 "cells": [
  {
   "cell_type": "markdown",
   "metadata": {},
   "source": [
    "# Assignment : Intro to Python and Pandas\n",
    "# Due on: 02/06/2019 by 11:59 pm via Canvas"
   ]
  },
  {
   "cell_type": "code",
   "execution_count": 3,
   "metadata": {},
   "outputs": [],
   "source": [
    "import numpy as np\n",
    "import pandas as pd"
   ]
  },
  {
   "cell_type": "markdown",
   "metadata": {},
   "source": [
    "### TASK-1\n",
    "### Create two (1 * 10) array using numpy and name them X and Y. Fill the array with random values\n",
    "### Calculate elementwise addition, subtraction, multiplication, and division of X and Y. Print all results"
   ]
  },
  {
   "cell_type": "code",
   "execution_count": 6,
   "metadata": {},
   "outputs": [],
   "source": [
    "x = np.random.random((1,10))\n",
    "y = np.random.random((1,10))"
   ]
  },
  {
   "cell_type": "code",
   "execution_count": 8,
   "metadata": {},
   "outputs": [
    {
     "name": "stdout",
     "output_type": "stream",
     "text": [
      "[[0.67887827 1.22693944 0.4675482  0.89103843 1.00206656 0.67990296\n",
      "  1.71805861 0.72670014 0.42347917 1.64466438]]\n",
      "[[-0.03306577 -0.46622587 -0.11433192  0.35762445 -0.92249179  0.61473054\n",
      "   0.22435358  0.63037018 -0.29266046  0.13875711]]\n",
      "[[0.11494559 0.32200345 0.05138238 0.16651356 0.03828657 0.0210936\n",
      "  0.72534771 0.03268163 0.02342112 0.67141685]]\n",
      "[[ 0.90711132  0.44928488  0.60702585  2.34088891  0.04134703 19.86474448\n",
      "   1.30039878 14.08772876  0.18267207  1.18428374]]\n"
     ]
    }
   ],
   "source": [
    "print(np.add(x,y))\n",
    "print(np.subtract(x,y))\n",
    "print(np.multiply(x,y))\n",
    "print(np.divide(x,y))"
   ]
  },
  {
   "cell_type": "markdown",
   "metadata": {},
   "source": [
    "### TASK-2\n",
    "### Load the Car_Evaluation Data using pandas"
   ]
  },
  {
   "cell_type": "code",
   "execution_count": 12,
   "metadata": {},
   "outputs": [],
   "source": [
    "input_path = 'Car_Evaluation.csv'"
   ]
  },
  {
   "cell_type": "code",
   "execution_count": 13,
   "metadata": {},
   "outputs": [],
   "source": [
    "data_df = pd.read_csv(input_path)"
   ]
  },
  {
   "cell_type": "markdown",
   "metadata": {},
   "source": [
    "### TASK-3\n",
    "### Print length of the dataframe"
   ]
  },
  {
   "cell_type": "code",
   "execution_count": 15,
   "metadata": {},
   "outputs": [
    {
     "name": "stdout",
     "output_type": "stream",
     "text": [
      "1728\n"
     ]
    }
   ],
   "source": [
    "print(len(data_df))"
   ]
  },
  {
   "cell_type": "code",
   "execution_count": null,
   "metadata": {},
   "outputs": [],
   "source": []
  },
  {
   "cell_type": "markdown",
   "metadata": {},
   "source": [
    "### TASK-4\n",
    "### Print number of attributes and attribute names of the dataframe"
   ]
  },
  {
   "cell_type": "code",
   "execution_count": 16,
   "metadata": {},
   "outputs": [
    {
     "name": "stdout",
     "output_type": "stream",
     "text": [
      "Index(['buying', 'maint', 'doors', 'persons', 'lug_boot', 'safety', 'class'], dtype='object')\n"
     ]
    }
   ],
   "source": [
    "print(data_df.columns)"
   ]
  },
  {
   "cell_type": "code",
   "execution_count": 17,
   "metadata": {},
   "outputs": [
    {
     "name": "stdout",
     "output_type": "stream",
     "text": [
      "7\n"
     ]
    }
   ],
   "source": [
    "print(len(data_df.columns))"
   ]
  },
  {
   "cell_type": "markdown",
   "metadata": {},
   "source": [
    "### TASK-5\n",
    "### Print unique values of each attribute in the dataframe"
   ]
  },
  {
   "cell_type": "code",
   "execution_count": 23,
   "metadata": {},
   "outputs": [
    {
     "name": "stdout",
     "output_type": "stream",
     "text": [
      "buying\n",
      "['vhigh' nan 'high' 'med' 'low']\n",
      "maint\n",
      "['vhigh' 'high' 'med' nan 'low']\n",
      "doors\n",
      "['2' '3' '4' '5more']\n",
      "persons\n",
      "['2' '4' 'more' nan]\n",
      "lug_boot\n",
      "['small' 'med' 'big']\n",
      "safety\n",
      "['low' 'med' 'high']\n",
      "class\n",
      "['unacc' nan 'acc' 'vgood' 'good']\n"
     ]
    }
   ],
   "source": [
    "for column in data_df.columns:\n",
    "    print(column)\n",
    "    print(pd.unique(data_df[column].values))"
   ]
  },
  {
   "cell_type": "code",
   "execution_count": null,
   "metadata": {},
   "outputs": [],
   "source": []
  },
  {
   "cell_type": "markdown",
   "metadata": {},
   "source": [
    "### TASK-6\n",
    "### Print datatype of each attribute"
   ]
  },
  {
   "cell_type": "code",
   "execution_count": 30,
   "metadata": {},
   "outputs": [
    {
     "name": "stdout",
     "output_type": "stream",
     "text": [
      "object\n",
      "object\n",
      "object\n",
      "object\n",
      "object\n",
      "object\n",
      "object\n"
     ]
    }
   ],
   "source": [
    "for column in data_df.columns:\n",
    "    print(data_df[column].dtypes)"
   ]
  },
  {
   "cell_type": "code",
   "execution_count": null,
   "metadata": {},
   "outputs": [],
   "source": []
  },
  {
   "cell_type": "markdown",
   "metadata": {},
   "source": [
    "### TASK-7\n",
    "### Load a dataframe where the attribute Class is \"acc\"\n",
    "### Print the resulting dataframe"
   ]
  },
  {
   "cell_type": "code",
   "execution_count": 36,
   "metadata": {},
   "outputs": [],
   "source": [
    "acc_df = data_df[data_df['class'] == 'acc']"
   ]
  },
  {
   "cell_type": "code",
   "execution_count": 38,
   "metadata": {},
   "outputs": [
    {
     "name": "stdout",
     "output_type": "stream",
     "text": [
      "     buying maint  doors persons lug_boot safety class\n",
      "227   vhigh   med      2       4    small   high   acc\n",
      "230   vhigh   med      2       4      med   high   acc\n",
      "232   vhigh   med      2       4      big    med   acc\n",
      "233   vhigh   med      2       4      big   high   acc\n",
      "239   vhigh   med      2    more      med   high   acc\n",
      "241   vhigh   med      2    more      big    med   acc\n",
      "242   vhigh   NaN      2    more      big   high   acc\n",
      "254   vhigh   med      3       4    small   high   acc\n",
      "257   vhigh   med      3       4      med   high   acc\n",
      "259   vhigh   med      3       4      big    med   acc\n",
      "260   vhigh   med      3       4      big   high   acc\n",
      "263   vhigh   med      3    more    small   high   acc\n",
      "265   vhigh   med      3    more      med    med   acc\n",
      "266   vhigh   med      3    more      med   high   acc\n",
      "268   vhigh   med      3    more      big    med   acc\n",
      "269   vhigh   med      3    more      big   high   acc\n",
      "281   vhigh   med      4       4    small   high   acc\n",
      "283   vhigh   med      4       4      med    med   acc\n",
      "284   vhigh   med      4       4      med   high   acc\n",
      "286   vhigh   med      4       4      big    med   acc\n",
      "287   vhigh   med      4       4      big   high   acc\n",
      "290   vhigh   med      4    more    small   high   acc\n",
      "292   vhigh   med      4    more      med    med   acc\n",
      "293   vhigh   med      4    more      med   high   acc\n",
      "295   vhigh   med      4    more      big    med   acc\n",
      "296   vhigh   med      4    more      big   high   acc\n",
      "308   vhigh   med  5more       4    small   high   acc\n",
      "310   vhigh   med  5more       4      med    med   acc\n",
      "311   vhigh   med  5more       4      med   high   acc\n",
      "313   vhigh   med  5more       4      big    med   acc\n",
      "...     ...   ...    ...     ...      ...    ...   ...\n",
      "1480    low  high      4    more      med    med   acc\n",
      "1483    low  high      4    more      big    med   acc\n",
      "1495    low  high  5more       4    small    med   acc\n",
      "1496    low  high  5more       4    small   high   acc\n",
      "1498    low  high  5more       4      med    med   acc\n",
      "1501    low  high  5more       4      big    med   acc\n",
      "1504    low  high  5more    more    small    med   acc\n",
      "1505    low  high  5more    more    small   high   acc\n",
      "1507    low  high  5more    more      med    med   acc\n",
      "1510    low  high  5more    more      big    med   acc\n",
      "1522    low   med      2       4    small    med   acc\n",
      "1525    low   med      2       4      med    med   acc\n",
      "1534    low   med      2    more      med    med   acc\n",
      "1549    low   med      3       4    small    med   acc\n",
      "1552    low   med      3       4      med    med   acc\n",
      "1558    low   med      3    more    small    med   acc\n",
      "1576    low   med      4       4    small    med   acc\n",
      "1585    low   med      4    more    small    med   acc\n",
      "1603    low   med  5more       4    small    med   acc\n",
      "1612    low   med  5more    more    small    med   acc\n",
      "1630    low   low      2       4    small    med   acc\n",
      "1633    low   low      2       4      med    med   acc\n",
      "1642    low   low      2    more      med    med   acc\n",
      "1657    low   low      3       4    small    med   acc\n",
      "1660    low   low      3       4      med    med   acc\n",
      "1666    low   low      3    more    small    med   acc\n",
      "1684    low   low      4       4    small    med   acc\n",
      "1693    low   low      4    more    small    med   acc\n",
      "1711    low   low  5more       4    small    med   acc\n",
      "1720    low   low  5more    more    small    med   acc\n",
      "\n",
      "[384 rows x 7 columns]\n"
     ]
    }
   ],
   "source": [
    "print(acc_df)"
   ]
  },
  {
   "cell_type": "markdown",
   "metadata": {},
   "source": [
    "### TASK-8\n",
    "### Load a dataframe where the attribute Class is \"unacc\" and the attribute Safety is \"low\"\n",
    "### Print the resulting dataframe"
   ]
  },
  {
   "cell_type": "code",
   "execution_count": 39,
   "metadata": {},
   "outputs": [],
   "source": [
    "unacc_df = data_df[(data_df['class'] == 'unacc') & (data_df['safety'] == 'low')]"
   ]
  },
  {
   "cell_type": "code",
   "execution_count": 40,
   "metadata": {},
   "outputs": [
    {
     "name": "stdout",
     "output_type": "stream",
     "text": [
      "     buying  maint  doors persons lug_boot safety  class\n",
      "0     vhigh  vhigh      2       2    small    low  unacc\n",
      "3     vhigh  vhigh      2       2      med    low  unacc\n",
      "6     vhigh  vhigh      2       2      big    low  unacc\n",
      "9     vhigh  vhigh      2       4    small    low  unacc\n",
      "12    vhigh  vhigh      2       4      med    low  unacc\n",
      "15    vhigh  vhigh      2       4      big    low  unacc\n",
      "18    vhigh  vhigh      2    more    small    low  unacc\n",
      "21    vhigh  vhigh      2    more      med    low  unacc\n",
      "24    vhigh  vhigh      2    more      big    low  unacc\n",
      "27    vhigh  vhigh      3       2    small    low  unacc\n",
      "30    vhigh  vhigh      3       2      med    low  unacc\n",
      "33    vhigh  vhigh      3       2      big    low  unacc\n",
      "36    vhigh  vhigh      3       4    small    low  unacc\n",
      "39    vhigh  vhigh      3       4      med    low  unacc\n",
      "42    vhigh  vhigh      3       4      big    low  unacc\n",
      "45    vhigh  vhigh      3    more    small    low  unacc\n",
      "48    vhigh  vhigh      3    more      med    low  unacc\n",
      "51    vhigh  vhigh      3    more      big    low  unacc\n",
      "54    vhigh  vhigh      4       2    small    low  unacc\n",
      "57    vhigh  vhigh      4       2      med    low  unacc\n",
      "60    vhigh  vhigh      4       2      big    low  unacc\n",
      "63    vhigh  vhigh      4       4    small    low  unacc\n",
      "66    vhigh  vhigh      4       4      med    low  unacc\n",
      "69    vhigh  vhigh      4       4      big    low  unacc\n",
      "72    vhigh  vhigh      4    more    small    low  unacc\n",
      "75    vhigh  vhigh      4    more      med    low  unacc\n",
      "78    vhigh  vhigh      4    more      big    low  unacc\n",
      "81    vhigh  vhigh  5more       2    small    low  unacc\n",
      "84    vhigh  vhigh  5more       2      med    low  unacc\n",
      "87    vhigh  vhigh  5more       2      big    low  unacc\n",
      "...     ...    ...    ...     ...      ...    ...    ...\n",
      "1638    low    low      2    more    small    low  unacc\n",
      "1641    low    low      2    more      med    low  unacc\n",
      "1644    low    low      2    more      big    low  unacc\n",
      "1647    low    low      3       2    small    low  unacc\n",
      "1650    low    low      3       2      med    low  unacc\n",
      "1653    low    low      3       2      big    low  unacc\n",
      "1656    low    low      3       4    small    low  unacc\n",
      "1659    low    low      3       4      med    low  unacc\n",
      "1662    low    low      3       4      big    low  unacc\n",
      "1665    low    low      3    more    small    low  unacc\n",
      "1668    low    low      3    more      med    low  unacc\n",
      "1671    low    low      3    more      big    low  unacc\n",
      "1674    low    low      4       2    small    low  unacc\n",
      "1677    low    low      4       2      med    low  unacc\n",
      "1680    low    low      4       2      big    low  unacc\n",
      "1683    low    low      4       4    small    low  unacc\n",
      "1686    low    low      4       4      med    low  unacc\n",
      "1689    low    low      4       4      big    low  unacc\n",
      "1692    low    low      4    more    small    low  unacc\n",
      "1695    low    low      4    more      med    low  unacc\n",
      "1698    low    low      4    more      big    low  unacc\n",
      "1701    low    low  5more       2    small    low  unacc\n",
      "1704    low    low  5more       2      med    low  unacc\n",
      "1707    low    low  5more       2      big    low  unacc\n",
      "1710    low    low  5more       4    small    low  unacc\n",
      "1713    low    low  5more       4      med    low  unacc\n",
      "1716    low    low  5more       4      big    low  unacc\n",
      "1719    low    low  5more    more    small    low  unacc\n",
      "1722    low    low  5more    more      med    low  unacc\n",
      "1725    low    low  5more    more      big    low  unacc\n",
      "\n",
      "[576 rows x 7 columns]\n"
     ]
    }
   ],
   "source": [
    "print(unacc_df)"
   ]
  },
  {
   "cell_type": "markdown",
   "metadata": {},
   "source": [
    "### TASK-9\n",
    "### Create a dataframe with only attributes: buying, maint, doors, and Class\n",
    "### Print the dataframe"
   ]
  },
  {
   "cell_type": "code",
   "execution_count": 42,
   "metadata": {},
   "outputs": [],
   "source": [
    "small_df=data_df[['buying','maint','doors','class']]"
   ]
  },
  {
   "cell_type": "code",
   "execution_count": 43,
   "metadata": {},
   "outputs": [
    {
     "name": "stdout",
     "output_type": "stream",
     "text": [
      "     buying  maint  doors  class\n",
      "0     vhigh  vhigh      2  unacc\n",
      "1     vhigh  vhigh      2  unacc\n",
      "2     vhigh  vhigh      2  unacc\n",
      "3     vhigh  vhigh      2  unacc\n",
      "4     vhigh  vhigh      2  unacc\n",
      "5     vhigh  vhigh      2  unacc\n",
      "6     vhigh  vhigh      2  unacc\n",
      "7     vhigh  vhigh      2  unacc\n",
      "8     vhigh  vhigh      2  unacc\n",
      "9     vhigh  vhigh      2  unacc\n",
      "10    vhigh  vhigh      2  unacc\n",
      "11    vhigh  vhigh      2  unacc\n",
      "12    vhigh  vhigh      2  unacc\n",
      "13    vhigh  vhigh      2  unacc\n",
      "14    vhigh  vhigh      2  unacc\n",
      "15    vhigh  vhigh      2  unacc\n",
      "16    vhigh  vhigh      2  unacc\n",
      "17    vhigh  vhigh      2  unacc\n",
      "18    vhigh  vhigh      2  unacc\n",
      "19    vhigh  vhigh      2  unacc\n",
      "20    vhigh  vhigh      2  unacc\n",
      "21    vhigh  vhigh      2  unacc\n",
      "22    vhigh  vhigh      2  unacc\n",
      "23    vhigh  vhigh      2  unacc\n",
      "24    vhigh  vhigh      2  unacc\n",
      "25    vhigh  vhigh      2  unacc\n",
      "26    vhigh  vhigh      2  unacc\n",
      "27    vhigh  vhigh      3  unacc\n",
      "28    vhigh  vhigh      3  unacc\n",
      "29    vhigh  vhigh      3  unacc\n",
      "...     ...    ...    ...    ...\n",
      "1698    low    low      4  unacc\n",
      "1699    low    low      4   good\n",
      "1700    low    low      4  vgood\n",
      "1701    low    low  5more  unacc\n",
      "1702    low    low  5more  unacc\n",
      "1703    low    low  5more  unacc\n",
      "1704    low    low  5more  unacc\n",
      "1705    low    low  5more  unacc\n",
      "1706    low    low  5more  unacc\n",
      "1707    low    low  5more  unacc\n",
      "1708    low    low  5more  unacc\n",
      "1709    low    low  5more  unacc\n",
      "1710    low    low  5more  unacc\n",
      "1711    low    low  5more    acc\n",
      "1712    low    low  5more   good\n",
      "1713    low    low  5more  unacc\n",
      "1714    low    low  5more   good\n",
      "1715    low    low  5more  vgood\n",
      "1716    low    low  5more  unacc\n",
      "1717    low    low  5more   good\n",
      "1718    low    low  5more  vgood\n",
      "1719    low    low  5more  unacc\n",
      "1720    low    low  5more    acc\n",
      "1721    low    low  5more   good\n",
      "1722    low    low  5more  unacc\n",
      "1723    low    low  5more   good\n",
      "1724    low    low  5more  vgood\n",
      "1725    low    low  5more  unacc\n",
      "1726    low    low  5more   good\n",
      "1727    low    low  5more  vgood\n",
      "\n",
      "[1728 rows x 4 columns]\n"
     ]
    }
   ],
   "source": [
    "print(small_df)"
   ]
  },
  {
   "cell_type": "markdown",
   "metadata": {},
   "source": [
    "### TASK-10\n",
    "### Get a dataframe by removing all empty values (or NaN) in the original dataframe\n",
    "### Print length of the dataframe"
   ]
  },
  {
   "cell_type": "code",
   "execution_count": 44,
   "metadata": {},
   "outputs": [],
   "source": [
    "new_df = data_df.dropna()"
   ]
  },
  {
   "cell_type": "code",
   "execution_count": 47,
   "metadata": {},
   "outputs": [
    {
     "name": "stdout",
     "output_type": "stream",
     "text": [
      "1722\n"
     ]
    }
   ],
   "source": [
    "print(len(new_df))"
   ]
  },
  {
   "cell_type": "markdown",
   "metadata": {},
   "source": [
    "### TASK-11\n",
    "### Duplicate the original dataframe\n",
    "### Create a random column named \"Color\" in the new dataframe\n",
    "### The column should be filled with random values between 0 and 4\n",
    "### Print number of attributes in the dataframe and a count of each value in the column \"Color\""
   ]
  },
  {
   "cell_type": "code",
   "execution_count": 49,
   "metadata": {},
   "outputs": [],
   "source": [
    "new_df = data_df\n",
    "new_df['color'] = np.random.randint(0, 4, len(data_df))"
   ]
  },
  {
   "cell_type": "code",
   "execution_count": 54,
   "metadata": {},
   "outputs": [
    {
     "name": "stdout",
     "output_type": "stream",
     "text": [
      "0    460\n",
      "2    441\n",
      "3    414\n",
      "1    413\n",
      "Name: color, dtype: int64\n"
     ]
    }
   ],
   "source": [
    "print(new_df['color'].value_counts())"
   ]
  },
  {
   "cell_type": "markdown",
   "metadata": {
    "collapsed": true
   },
   "source": [
    "### TASK-12\n",
    "### Save the dataframe with \"Color\" attribute as \"Car_modified.csv\" file"
   ]
  },
  {
   "cell_type": "code",
   "execution_count": 55,
   "metadata": {},
   "outputs": [],
   "source": [
    "new_df.to_csv('Car_modified.csv')"
   ]
  },
  {
   "cell_type": "code",
   "execution_count": null,
   "metadata": {},
   "outputs": [],
   "source": []
  },
  {
   "cell_type": "markdown",
   "metadata": {},
   "source": [
    "### TASK-13\n",
    "### Load the Iris data into a dataframe\n",
    "### Print the number of attributes, length of the dataframe, and uniques attributes in the dataframe"
   ]
  },
  {
   "cell_type": "code",
   "execution_count": 57,
   "metadata": {},
   "outputs": [],
   "source": [
    "iris = pd.read_csv('iris.csv')"
   ]
  },
  {
   "cell_type": "code",
   "execution_count": 60,
   "metadata": {},
   "outputs": [
    {
     "name": "stdout",
     "output_type": "stream",
     "text": [
      "5\n",
      "150\n"
     ]
    }
   ],
   "source": [
    "print(len(iris.columns))\n",
    "print(len(iris))"
   ]
  },
  {
   "cell_type": "code",
   "execution_count": 62,
   "metadata": {},
   "outputs": [
    {
     "name": "stdout",
     "output_type": "stream",
     "text": [
      "Sepal Length\n",
      "[5.1 4.9 4.7 4.6 5.  5.4 4.4 4.8 4.3 5.8 5.7 5.2 5.5 4.5 5.3 7.  6.4 6.9\n",
      " 6.5 6.3 6.6 5.9 6.  6.1 5.6 6.7 6.2 6.8 7.1 7.6 7.3 7.2 7.7 7.4 7.9]\n",
      "Sepal Width\n",
      "[3.5 3.  3.2 3.1 3.6 3.9 3.4 2.9 3.7 4.  4.4 3.8 3.3 4.1 4.2 2.3 2.8 2.4\n",
      " 2.7 2.  2.2 2.5 2.6]\n",
      "Petal Length\n",
      "[1.4 1.3 1.5 1.7 1.6 1.1 1.2 1.  1.9 4.7 4.5 4.9 4.  4.6 3.3 3.9 3.5 4.2\n",
      " 3.6 4.4 4.1 4.8 4.3 5.  3.8 3.7 5.1 3.  6.  5.9 5.6 5.8 6.6 6.3 6.1 5.3\n",
      " 5.5 6.7 6.9 5.7 6.4 5.4 5.2]\n",
      " Petal Width\n",
      "[0.2 0.4 0.3 0.1 0.5 0.6 1.4 1.5 1.3 1.6 1.  1.1 1.8 1.2 1.7 2.5 1.9 2.1\n",
      " 2.2 2.  2.4 2.3]\n",
      "Class\n",
      "['Iris-setosa' 'Iris-versicolor' 'Iris-virginica']\n"
     ]
    }
   ],
   "source": [
    "for column in iris.columns:\n",
    "    print(column)\n",
    "    print(pd.unique(iris[column].values))"
   ]
  },
  {
   "cell_type": "markdown",
   "metadata": {},
   "source": [
    "### TASK-14\n",
    "### Get a sum of attributes \"Sepal Width\" and \"Sepal Length\""
   ]
  },
  {
   "cell_type": "code",
   "execution_count": null,
   "metadata": {},
   "outputs": [],
   "source": []
  },
  {
   "cell_type": "code",
   "execution_count": null,
   "metadata": {},
   "outputs": [],
   "source": []
  },
  {
   "cell_type": "markdown",
   "metadata": {},
   "source": [
    "### TASK-15\n",
    "### Get a mean of attributes \"Petal Length\" and \"Petal Width\""
   ]
  },
  {
   "cell_type": "code",
   "execution_count": null,
   "metadata": {},
   "outputs": [],
   "source": []
  },
  {
   "cell_type": "code",
   "execution_count": null,
   "metadata": {},
   "outputs": [],
   "source": []
  },
  {
   "cell_type": "markdown",
   "metadata": {},
   "source": [
    "### TASK-16\n",
    "### Print standard deviation, minimum, and maximum value of all attributes except the \"Class\" attribute"
   ]
  },
  {
   "cell_type": "code",
   "execution_count": null,
   "metadata": {},
   "outputs": [],
   "source": []
  },
  {
   "cell_type": "code",
   "execution_count": null,
   "metadata": {},
   "outputs": [],
   "source": []
  },
  {
   "cell_type": "markdown",
   "metadata": {},
   "source": [
    "### TASK-17\n",
    "### Print number of instances in the dataframe with attribute \"Class\" = Iris_setosa\n",
    "### Print number of instances in the dataframe with attribute \"Class\" = Iris_versicolor\n",
    "### Print number of instances in the dataframe with attribute \"Class\" = Iris_virginica"
   ]
  },
  {
   "cell_type": "code",
   "execution_count": null,
   "metadata": {},
   "outputs": [],
   "source": []
  },
  {
   "cell_type": "code",
   "execution_count": null,
   "metadata": {},
   "outputs": [],
   "source": []
  },
  {
   "cell_type": "markdown",
   "metadata": {},
   "source": [
    "### TASK-18\n",
    "### Find average \"Petal Length\" for each Class type\n",
    "### Find average \"Petal Width\" for each Class type"
   ]
  },
  {
   "cell_type": "code",
   "execution_count": null,
   "metadata": {},
   "outputs": [],
   "source": []
  },
  {
   "cell_type": "code",
   "execution_count": null,
   "metadata": {},
   "outputs": [],
   "source": []
  },
  {
   "cell_type": "markdown",
   "metadata": {},
   "source": [
    "### TASK-19\n",
    "### Print first 10 rows in the \"Iris\" dataframe\n",
    "### Print last 10 rows in the \"Iris\" dataframe"
   ]
  },
  {
   "cell_type": "code",
   "execution_count": null,
   "metadata": {},
   "outputs": [],
   "source": []
  },
  {
   "cell_type": "code",
   "execution_count": null,
   "metadata": {},
   "outputs": [],
   "source": []
  },
  {
   "cell_type": "code",
   "execution_count": null,
   "metadata": {},
   "outputs": [],
   "source": []
  }
 ],
 "metadata": {
  "kernelspec": {
   "display_name": "Python 3",
   "language": "python",
   "name": "python3"
  },
  "language_info": {
   "codemirror_mode": {
    "name": "ipython",
    "version": 3
   },
   "file_extension": ".py",
   "mimetype": "text/x-python",
   "name": "python",
   "nbconvert_exporter": "python",
   "pygments_lexer": "ipython3",
   "version": "3.7.2"
  }
 },
 "nbformat": 4,
 "nbformat_minor": 2
}
