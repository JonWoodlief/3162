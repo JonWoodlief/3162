{
 "cells": [
  {
   "cell_type": "markdown",
   "metadata": {},
   "source": [
    "# Assignment : Intro to Python and Pandas\n",
    "# Due on: 02/06/2019 by 11:59 pm via Canvas"
   ]
  },
  {
   "cell_type": "code",
   "execution_count": 1,
   "metadata": {},
   "outputs": [],
   "source": [
    "import numpy as np\n",
    "import pandas as pd"
   ]
  },
  {
   "cell_type": "markdown",
   "metadata": {},
   "source": [
    "### TASK-1\n",
    "### Create two (1 * 10) array using numpy and name them X and Y. Fill the array with random values\n",
    "### Calculate elementwise addition, subtraction, multiplication, and division of X and Y. Print all results"
   ]
  },
  {
   "cell_type": "code",
   "execution_count": 2,
   "metadata": {},
   "outputs": [],
   "source": [
    "x = np.random.random((1,10))\n",
    "y = np.random.random((1,10))"
   ]
  },
  {
   "cell_type": "code",
   "execution_count": 3,
   "metadata": {},
   "outputs": [
    {
     "name": "stdout",
     "output_type": "stream",
     "text": [
      "[[0.33471777 1.62672764 1.38934547 0.24055592 0.73830978 1.76422771\n",
      "  1.19289788 0.72402733 0.79122565 0.65171086]]\n",
      "[[-0.00265395  0.26124001  0.27666455  0.07415347  0.58208213  0.21371981\n",
      "  -0.59430151 -0.57330126  0.1592316   0.40593508]]\n",
      "[[0.02800724 0.64449912 0.46343439 0.0130921  0.05157043 0.76670582\n",
      "  0.26745277 0.04888531 0.15017083 0.06498594]]\n",
      "[[0.98426689 1.38263255 1.4972936  1.89125459 8.45171703 1.27567716\n",
      "  0.33493542 0.11618188 1.50390222 4.30329613]]\n"
     ]
    }
   ],
   "source": [
    "print(np.add(x,y))\n",
    "print(np.subtract(x,y))\n",
    "print(np.multiply(x,y))\n",
    "print(np.divide(x,y))"
   ]
  },
  {
   "cell_type": "markdown",
   "metadata": {},
   "source": [
    "### TASK-2\n",
    "### Load the Car_Evaluation Data using pandas"
   ]
  },
  {
   "cell_type": "code",
   "execution_count": 4,
   "metadata": {},
   "outputs": [],
   "source": [
    "input_path = 'Car_Evaluation.csv'"
   ]
  },
  {
   "cell_type": "code",
   "execution_count": 5,
   "metadata": {},
   "outputs": [],
   "source": [
    "data_df = pd.read_csv(input_path)"
   ]
  },
  {
   "cell_type": "markdown",
   "metadata": {},
   "source": [
    "### TASK-3\n",
    "### Print length of the dataframe"
   ]
  },
  {
   "cell_type": "code",
   "execution_count": 6,
   "metadata": {},
   "outputs": [
    {
     "name": "stdout",
     "output_type": "stream",
     "text": [
      "1728\n"
     ]
    }
   ],
   "source": [
    "print(len(data_df))"
   ]
  },
  {
   "cell_type": "code",
   "execution_count": null,
   "metadata": {},
   "outputs": [],
   "source": []
  },
  {
   "cell_type": "markdown",
   "metadata": {},
   "source": [
    "### TASK-4\n",
    "### Print number of attributes and attribute names of the dataframe"
   ]
  },
  {
   "cell_type": "code",
   "execution_count": 7,
   "metadata": {},
   "outputs": [
    {
     "name": "stdout",
     "output_type": "stream",
     "text": [
      "Index(['buying', 'maint', 'doors', 'persons', 'lug_boot', 'safety', 'class'], dtype='object')\n"
     ]
    }
   ],
   "source": [
    "print(data_df.columns)"
   ]
  },
  {
   "cell_type": "code",
   "execution_count": 8,
   "metadata": {},
   "outputs": [
    {
     "name": "stdout",
     "output_type": "stream",
     "text": [
      "7\n"
     ]
    }
   ],
   "source": [
    "print(len(data_df.columns))"
   ]
  },
  {
   "cell_type": "markdown",
   "metadata": {},
   "source": [
    "### TASK-5\n",
    "### Print unique values of each attribute in the dataframe"
   ]
  },
  {
   "cell_type": "code",
   "execution_count": 9,
   "metadata": {},
   "outputs": [
    {
     "name": "stdout",
     "output_type": "stream",
     "text": [
      "buying\n",
      "['vhigh' nan 'high' 'med' 'low']\n",
      "maint\n",
      "['vhigh' 'high' 'med' nan 'low']\n",
      "doors\n",
      "['2' '3' '4' '5more']\n",
      "persons\n",
      "['2' '4' 'more' nan]\n",
      "lug_boot\n",
      "['small' 'med' 'big']\n",
      "safety\n",
      "['low' 'med' 'high']\n",
      "class\n",
      "['unacc' nan 'acc' 'vgood' 'good']\n"
     ]
    }
   ],
   "source": [
    "for column in data_df.columns:\n",
    "    print(column)\n",
    "    print(pd.unique(data_df[column].values))"
   ]
  },
  {
   "cell_type": "code",
   "execution_count": null,
   "metadata": {},
   "outputs": [],
   "source": []
  },
  {
   "cell_type": "markdown",
   "metadata": {},
   "source": [
    "### TASK-6\n",
    "### Print datatype of each attribute"
   ]
  },
  {
   "cell_type": "code",
   "execution_count": 10,
   "metadata": {},
   "outputs": [
    {
     "name": "stdout",
     "output_type": "stream",
     "text": [
      "object\n",
      "object\n",
      "object\n",
      "object\n",
      "object\n",
      "object\n",
      "object\n"
     ]
    }
   ],
   "source": [
    "for column in data_df.columns:\n",
    "    print(data_df[column].dtypes)"
   ]
  },
  {
   "cell_type": "code",
   "execution_count": null,
   "metadata": {},
   "outputs": [],
   "source": []
  },
  {
   "cell_type": "markdown",
   "metadata": {},
   "source": [
    "### TASK-7\n",
    "### Load a dataframe where the attribute Class is \"acc\"\n",
    "### Print the resulting dataframe"
   ]
  },
  {
   "cell_type": "code",
   "execution_count": 11,
   "metadata": {},
   "outputs": [],
   "source": [
    "acc_df = data_df[data_df['class'] == 'acc']"
   ]
  },
  {
   "cell_type": "code",
   "execution_count": 12,
   "metadata": {},
   "outputs": [
    {
     "name": "stdout",
     "output_type": "stream",
     "text": [
      "     buying maint  doors persons lug_boot safety class\n",
      "227   vhigh   med      2       4    small   high   acc\n",
      "230   vhigh   med      2       4      med   high   acc\n",
      "232   vhigh   med      2       4      big    med   acc\n",
      "233   vhigh   med      2       4      big   high   acc\n",
      "239   vhigh   med      2    more      med   high   acc\n",
      "241   vhigh   med      2    more      big    med   acc\n",
      "242   vhigh   NaN      2    more      big   high   acc\n",
      "254   vhigh   med      3       4    small   high   acc\n",
      "257   vhigh   med      3       4      med   high   acc\n",
      "259   vhigh   med      3       4      big    med   acc\n",
      "260   vhigh   med      3       4      big   high   acc\n",
      "263   vhigh   med      3    more    small   high   acc\n",
      "265   vhigh   med      3    more      med    med   acc\n",
      "266   vhigh   med      3    more      med   high   acc\n",
      "268   vhigh   med      3    more      big    med   acc\n",
      "269   vhigh   med      3    more      big   high   acc\n",
      "281   vhigh   med      4       4    small   high   acc\n",
      "283   vhigh   med      4       4      med    med   acc\n",
      "284   vhigh   med      4       4      med   high   acc\n",
      "286   vhigh   med      4       4      big    med   acc\n",
      "287   vhigh   med      4       4      big   high   acc\n",
      "290   vhigh   med      4    more    small   high   acc\n",
      "292   vhigh   med      4    more      med    med   acc\n",
      "293   vhigh   med      4    more      med   high   acc\n",
      "295   vhigh   med      4    more      big    med   acc\n",
      "296   vhigh   med      4    more      big   high   acc\n",
      "308   vhigh   med  5more       4    small   high   acc\n",
      "310   vhigh   med  5more       4      med    med   acc\n",
      "311   vhigh   med  5more       4      med   high   acc\n",
      "313   vhigh   med  5more       4      big    med   acc\n",
      "...     ...   ...    ...     ...      ...    ...   ...\n",
      "1480    low  high      4    more      med    med   acc\n",
      "1483    low  high      4    more      big    med   acc\n",
      "1495    low  high  5more       4    small    med   acc\n",
      "1496    low  high  5more       4    small   high   acc\n",
      "1498    low  high  5more       4      med    med   acc\n",
      "1501    low  high  5more       4      big    med   acc\n",
      "1504    low  high  5more    more    small    med   acc\n",
      "1505    low  high  5more    more    small   high   acc\n",
      "1507    low  high  5more    more      med    med   acc\n",
      "1510    low  high  5more    more      big    med   acc\n",
      "1522    low   med      2       4    small    med   acc\n",
      "1525    low   med      2       4      med    med   acc\n",
      "1534    low   med      2    more      med    med   acc\n",
      "1549    low   med      3       4    small    med   acc\n",
      "1552    low   med      3       4      med    med   acc\n",
      "1558    low   med      3    more    small    med   acc\n",
      "1576    low   med      4       4    small    med   acc\n",
      "1585    low   med      4    more    small    med   acc\n",
      "1603    low   med  5more       4    small    med   acc\n",
      "1612    low   med  5more    more    small    med   acc\n",
      "1630    low   low      2       4    small    med   acc\n",
      "1633    low   low      2       4      med    med   acc\n",
      "1642    low   low      2    more      med    med   acc\n",
      "1657    low   low      3       4    small    med   acc\n",
      "1660    low   low      3       4      med    med   acc\n",
      "1666    low   low      3    more    small    med   acc\n",
      "1684    low   low      4       4    small    med   acc\n",
      "1693    low   low      4    more    small    med   acc\n",
      "1711    low   low  5more       4    small    med   acc\n",
      "1720    low   low  5more    more    small    med   acc\n",
      "\n",
      "[384 rows x 7 columns]\n"
     ]
    }
   ],
   "source": [
    "print(acc_df)"
   ]
  },
  {
   "cell_type": "markdown",
   "metadata": {},
   "source": [
    "### TASK-8\n",
    "### Load a dataframe where the attribute Class is \"unacc\" and the attribute Safety is \"low\"\n",
    "### Print the resulting dataframe"
   ]
  },
  {
   "cell_type": "code",
   "execution_count": 13,
   "metadata": {},
   "outputs": [],
   "source": [
    "unacc_df = data_df[(data_df['class'] == 'unacc') & (data_df['safety'] == 'low')]"
   ]
  },
  {
   "cell_type": "code",
   "execution_count": 14,
   "metadata": {},
   "outputs": [
    {
     "name": "stdout",
     "output_type": "stream",
     "text": [
      "     buying  maint  doors persons lug_boot safety  class\n",
      "0     vhigh  vhigh      2       2    small    low  unacc\n",
      "3     vhigh  vhigh      2       2      med    low  unacc\n",
      "6     vhigh  vhigh      2       2      big    low  unacc\n",
      "9     vhigh  vhigh      2       4    small    low  unacc\n",
      "12    vhigh  vhigh      2       4      med    low  unacc\n",
      "15    vhigh  vhigh      2       4      big    low  unacc\n",
      "18    vhigh  vhigh      2    more    small    low  unacc\n",
      "21    vhigh  vhigh      2    more      med    low  unacc\n",
      "24    vhigh  vhigh      2    more      big    low  unacc\n",
      "27    vhigh  vhigh      3       2    small    low  unacc\n",
      "30    vhigh  vhigh      3       2      med    low  unacc\n",
      "33    vhigh  vhigh      3       2      big    low  unacc\n",
      "36    vhigh  vhigh      3       4    small    low  unacc\n",
      "39    vhigh  vhigh      3       4      med    low  unacc\n",
      "42    vhigh  vhigh      3       4      big    low  unacc\n",
      "45    vhigh  vhigh      3    more    small    low  unacc\n",
      "48    vhigh  vhigh      3    more      med    low  unacc\n",
      "51    vhigh  vhigh      3    more      big    low  unacc\n",
      "54    vhigh  vhigh      4       2    small    low  unacc\n",
      "57    vhigh  vhigh      4       2      med    low  unacc\n",
      "60    vhigh  vhigh      4       2      big    low  unacc\n",
      "63    vhigh  vhigh      4       4    small    low  unacc\n",
      "66    vhigh  vhigh      4       4      med    low  unacc\n",
      "69    vhigh  vhigh      4       4      big    low  unacc\n",
      "72    vhigh  vhigh      4    more    small    low  unacc\n",
      "75    vhigh  vhigh      4    more      med    low  unacc\n",
      "78    vhigh  vhigh      4    more      big    low  unacc\n",
      "81    vhigh  vhigh  5more       2    small    low  unacc\n",
      "84    vhigh  vhigh  5more       2      med    low  unacc\n",
      "87    vhigh  vhigh  5more       2      big    low  unacc\n",
      "...     ...    ...    ...     ...      ...    ...    ...\n",
      "1638    low    low      2    more    small    low  unacc\n",
      "1641    low    low      2    more      med    low  unacc\n",
      "1644    low    low      2    more      big    low  unacc\n",
      "1647    low    low      3       2    small    low  unacc\n",
      "1650    low    low      3       2      med    low  unacc\n",
      "1653    low    low      3       2      big    low  unacc\n",
      "1656    low    low      3       4    small    low  unacc\n",
      "1659    low    low      3       4      med    low  unacc\n",
      "1662    low    low      3       4      big    low  unacc\n",
      "1665    low    low      3    more    small    low  unacc\n",
      "1668    low    low      3    more      med    low  unacc\n",
      "1671    low    low      3    more      big    low  unacc\n",
      "1674    low    low      4       2    small    low  unacc\n",
      "1677    low    low      4       2      med    low  unacc\n",
      "1680    low    low      4       2      big    low  unacc\n",
      "1683    low    low      4       4    small    low  unacc\n",
      "1686    low    low      4       4      med    low  unacc\n",
      "1689    low    low      4       4      big    low  unacc\n",
      "1692    low    low      4    more    small    low  unacc\n",
      "1695    low    low      4    more      med    low  unacc\n",
      "1698    low    low      4    more      big    low  unacc\n",
      "1701    low    low  5more       2    small    low  unacc\n",
      "1704    low    low  5more       2      med    low  unacc\n",
      "1707    low    low  5more       2      big    low  unacc\n",
      "1710    low    low  5more       4    small    low  unacc\n",
      "1713    low    low  5more       4      med    low  unacc\n",
      "1716    low    low  5more       4      big    low  unacc\n",
      "1719    low    low  5more    more    small    low  unacc\n",
      "1722    low    low  5more    more      med    low  unacc\n",
      "1725    low    low  5more    more      big    low  unacc\n",
      "\n",
      "[576 rows x 7 columns]\n"
     ]
    }
   ],
   "source": [
    "print(unacc_df)"
   ]
  },
  {
   "cell_type": "markdown",
   "metadata": {},
   "source": [
    "### TASK-9\n",
    "### Create a dataframe with only attributes: buying, maint, doors, and Class\n",
    "### Print the dataframe"
   ]
  },
  {
   "cell_type": "code",
   "execution_count": 15,
   "metadata": {},
   "outputs": [],
   "source": [
    "small_df=data_df[['buying','maint','doors','class']]"
   ]
  },
  {
   "cell_type": "code",
   "execution_count": 16,
   "metadata": {},
   "outputs": [
    {
     "name": "stdout",
     "output_type": "stream",
     "text": [
      "     buying  maint  doors  class\n",
      "0     vhigh  vhigh      2  unacc\n",
      "1     vhigh  vhigh      2  unacc\n",
      "2     vhigh  vhigh      2  unacc\n",
      "3     vhigh  vhigh      2  unacc\n",
      "4     vhigh  vhigh      2  unacc\n",
      "5     vhigh  vhigh      2  unacc\n",
      "6     vhigh  vhigh      2  unacc\n",
      "7     vhigh  vhigh      2  unacc\n",
      "8     vhigh  vhigh      2  unacc\n",
      "9     vhigh  vhigh      2  unacc\n",
      "10    vhigh  vhigh      2  unacc\n",
      "11    vhigh  vhigh      2  unacc\n",
      "12    vhigh  vhigh      2  unacc\n",
      "13    vhigh  vhigh      2  unacc\n",
      "14    vhigh  vhigh      2  unacc\n",
      "15    vhigh  vhigh      2  unacc\n",
      "16    vhigh  vhigh      2  unacc\n",
      "17    vhigh  vhigh      2  unacc\n",
      "18    vhigh  vhigh      2  unacc\n",
      "19    vhigh  vhigh      2  unacc\n",
      "20    vhigh  vhigh      2  unacc\n",
      "21    vhigh  vhigh      2  unacc\n",
      "22    vhigh  vhigh      2  unacc\n",
      "23    vhigh  vhigh      2  unacc\n",
      "24    vhigh  vhigh      2  unacc\n",
      "25    vhigh  vhigh      2  unacc\n",
      "26    vhigh  vhigh      2  unacc\n",
      "27    vhigh  vhigh      3  unacc\n",
      "28    vhigh  vhigh      3  unacc\n",
      "29    vhigh  vhigh      3  unacc\n",
      "...     ...    ...    ...    ...\n",
      "1698    low    low      4  unacc\n",
      "1699    low    low      4   good\n",
      "1700    low    low      4  vgood\n",
      "1701    low    low  5more  unacc\n",
      "1702    low    low  5more  unacc\n",
      "1703    low    low  5more  unacc\n",
      "1704    low    low  5more  unacc\n",
      "1705    low    low  5more  unacc\n",
      "1706    low    low  5more  unacc\n",
      "1707    low    low  5more  unacc\n",
      "1708    low    low  5more  unacc\n",
      "1709    low    low  5more  unacc\n",
      "1710    low    low  5more  unacc\n",
      "1711    low    low  5more    acc\n",
      "1712    low    low  5more   good\n",
      "1713    low    low  5more  unacc\n",
      "1714    low    low  5more   good\n",
      "1715    low    low  5more  vgood\n",
      "1716    low    low  5more  unacc\n",
      "1717    low    low  5more   good\n",
      "1718    low    low  5more  vgood\n",
      "1719    low    low  5more  unacc\n",
      "1720    low    low  5more    acc\n",
      "1721    low    low  5more   good\n",
      "1722    low    low  5more  unacc\n",
      "1723    low    low  5more   good\n",
      "1724    low    low  5more  vgood\n",
      "1725    low    low  5more  unacc\n",
      "1726    low    low  5more   good\n",
      "1727    low    low  5more  vgood\n",
      "\n",
      "[1728 rows x 4 columns]\n"
     ]
    }
   ],
   "source": [
    "print(small_df)"
   ]
  },
  {
   "cell_type": "markdown",
   "metadata": {},
   "source": [
    "### TASK-10\n",
    "### Get a dataframe by removing all empty values (or NaN) in the original dataframe\n",
    "### Print length of the dataframe"
   ]
  },
  {
   "cell_type": "code",
   "execution_count": 17,
   "metadata": {},
   "outputs": [],
   "source": [
    "new_df = data_df.dropna()"
   ]
  },
  {
   "cell_type": "code",
   "execution_count": 18,
   "metadata": {},
   "outputs": [
    {
     "name": "stdout",
     "output_type": "stream",
     "text": [
      "1722\n"
     ]
    }
   ],
   "source": [
    "print(len(new_df))"
   ]
  },
  {
   "cell_type": "markdown",
   "metadata": {},
   "source": [
    "### TASK-11\n",
    "### Duplicate the original dataframe\n",
    "### Create a random column named \"Color\" in the new dataframe\n",
    "### The column should be filled with random values between 0 and 4\n",
    "### Print number of attributes in the dataframe and a count of each value in the column \"Color\""
   ]
  },
  {
   "cell_type": "code",
   "execution_count": 19,
   "metadata": {},
   "outputs": [],
   "source": [
    "new_df = data_df\n",
    "new_df['color'] = np.random.randint(0, 4, len(data_df))"
   ]
  },
  {
   "cell_type": "code",
   "execution_count": 20,
   "metadata": {},
   "outputs": [
    {
     "name": "stdout",
     "output_type": "stream",
     "text": [
      "2    452\n",
      "1    440\n",
      "3    427\n",
      "0    409\n",
      "Name: color, dtype: int64\n"
     ]
    }
   ],
   "source": [
    "print(new_df['color'].value_counts())"
   ]
  },
  {
   "cell_type": "markdown",
   "metadata": {
    "collapsed": true
   },
   "source": [
    "### TASK-12\n",
    "### Save the dataframe with \"Color\" attribute as \"Car_modified.csv\" file"
   ]
  },
  {
   "cell_type": "code",
   "execution_count": 21,
   "metadata": {},
   "outputs": [],
   "source": [
    "new_df.to_csv('Car_modified.csv')"
   ]
  },
  {
   "cell_type": "code",
   "execution_count": null,
   "metadata": {},
   "outputs": [],
   "source": []
  },
  {
   "cell_type": "markdown",
   "metadata": {},
   "source": [
    "### TASK-13\n",
    "### Load the Iris data into a dataframe\n",
    "### Print the number of attributes, length of the dataframe, and uniques attributes in the dataframe"
   ]
  },
  {
   "cell_type": "code",
   "execution_count": 22,
   "metadata": {},
   "outputs": [],
   "source": [
    "iris = pd.read_csv('iris.csv')"
   ]
  },
  {
   "cell_type": "code",
   "execution_count": 23,
   "metadata": {},
   "outputs": [
    {
     "name": "stdout",
     "output_type": "stream",
     "text": [
      "5\n",
      "150\n"
     ]
    }
   ],
   "source": [
    "print(len(iris.columns))\n",
    "print(len(iris))"
   ]
  },
  {
   "cell_type": "code",
   "execution_count": 48,
   "metadata": {},
   "outputs": [
    {
     "name": "stdout",
     "output_type": "stream",
     "text": [
      "Sepal Length\n",
      "[5.1 4.9 4.7 4.6 5.  5.4 4.4 4.8 4.3 5.8 5.7 5.2 5.5 4.5 5.3 7.  6.4 6.9\n",
      " 6.5 6.3 6.6 5.9 6.  6.1 5.6 6.7 6.2 6.8 7.1 7.6 7.3 7.2 7.7 7.4 7.9]\n",
      "Sepal Width\n",
      "[3.5 3.  3.2 3.1 3.6 3.9 3.4 2.9 3.7 4.  4.4 3.8 3.3 4.1 4.2 2.3 2.8 2.4\n",
      " 2.7 2.  2.2 2.5 2.6]\n",
      "Petal Length\n",
      "[1.4 1.3 1.5 1.7 1.6 1.1 1.2 1.  1.9 4.7 4.5 4.9 4.  4.6 3.3 3.9 3.5 4.2\n",
      " 3.6 4.4 4.1 4.8 4.3 5.  3.8 3.7 5.1 3.  6.  5.9 5.6 5.8 6.6 6.3 6.1 5.3\n",
      " 5.5 6.7 6.9 5.7 6.4 5.4 5.2]\n",
      " Petal Width\n",
      "[0.2 0.4 0.3 0.1 0.5 0.6 1.4 1.5 1.3 1.6 1.  1.1 1.8 1.2 1.7 2.5 1.9 2.1\n",
      " 2.2 2.  2.4 2.3]\n",
      "Class\n",
      "['Iris-setosa' 'Iris-versicolor' 'Iris-virginica']\n"
     ]
    }
   ],
   "source": [
    "for column in iris.columns:\n",
    "    print(column)\n",
    "    print(pd.unique(iris[column].values))"
   ]
  },
  {
   "cell_type": "markdown",
   "metadata": {},
   "source": [
    "### TASK-14\n",
    "### Get a sum of attributes \"Sepal Width\" and \"Sepal Length\""
   ]
  },
  {
   "cell_type": "code",
   "execution_count": 41,
   "metadata": {},
   "outputs": [],
   "source": [
    "sw = iris['Sepal Width'].sum()\n",
    "sl = iris['Sepal Length'].sum()"
   ]
  },
  {
   "cell_type": "code",
   "execution_count": 42,
   "metadata": {},
   "outputs": [
    {
     "name": "stdout",
     "output_type": "stream",
     "text": [
      "458.1\n",
      "876.5\n"
     ]
    }
   ],
   "source": [
    "print(sw)\n",
    "print(sl)"
   ]
  },
  {
   "cell_type": "markdown",
   "metadata": {},
   "source": [
    "### TASK-15\n",
    "### Get a mean of attributes \"Petal Length\" and \"Petal Width\""
   ]
  },
  {
   "cell_type": "code",
   "execution_count": 44,
   "metadata": {},
   "outputs": [],
   "source": [
    "pl = iris['Petal Length'].mean()\n",
    "pw = iris[' Petal Width'].mean()"
   ]
  },
  {
   "cell_type": "code",
   "execution_count": 43,
   "metadata": {},
   "outputs": [
    {
     "name": "stdout",
     "output_type": "stream",
     "text": [
      "3.758666666666666\n",
      "1.1986666666666668\n"
     ]
    }
   ],
   "source": [
    "print(pl)\n",
    "print(pw)"
   ]
  },
  {
   "cell_type": "markdown",
   "metadata": {},
   "source": [
    "### TASK-16\n",
    "### Print standard deviation, minimum, and maximum value of all attributes except the \"Class\" attribute"
   ]
  },
  {
   "cell_type": "code",
   "execution_count": 49,
   "metadata": {},
   "outputs": [
    {
     "name": "stdout",
     "output_type": "stream",
     "text": [
      "Sepal Length\n",
      "0.828066127977863\n",
      "4.3\n",
      "7.9\n",
      "Sepal Width\n",
      "0.4335943113621737\n",
      "2.0\n",
      "4.4\n",
      "Petal Length\n",
      "1.7644204199522626\n",
      "1.0\n",
      "6.9\n",
      " Petal Width\n",
      "0.7631607417008411\n",
      "0.1\n",
      "2.5\n"
     ]
    }
   ],
   "source": [
    "for column in iris.columns[:-1]:\n",
    "    print(column)\n",
    "    print(iris[column].std())\n",
    "    print(iris[column].min())\n",
    "    print(iris[column].max())"
   ]
  },
  {
   "cell_type": "code",
   "execution_count": null,
   "metadata": {},
   "outputs": [],
   "source": []
  },
  {
   "cell_type": "markdown",
   "metadata": {},
   "source": [
    "### TASK-17\n",
    "### Print number of instances in the dataframe with attribute \"Class\" = Iris_setosa\n",
    "### Print number of instances in the dataframe with attribute \"Class\" = Iris_versicolor\n",
    "### Print number of instances in the dataframe with attribute \"Class\" = Iris_virginica"
   ]
  },
  {
   "cell_type": "code",
   "execution_count": 59,
   "metadata": {},
   "outputs": [
    {
     "name": "stdout",
     "output_type": "stream",
     "text": [
      "Iris-setosa\n",
      "50\n",
      "Iris-versicolor\n",
      "50\n",
      "Iris-virginica\n",
      "50\n"
     ]
    }
   ],
   "source": [
    "for type in ['Iris-setosa', 'Iris-versicolor', 'Iris-virginica']:\n",
    "    print(type)\n",
    "    print(len(iris[iris['Class'] == type]))"
   ]
  },
  {
   "cell_type": "code",
   "execution_count": null,
   "metadata": {},
   "outputs": [],
   "source": []
  },
  {
   "cell_type": "markdown",
   "metadata": {},
   "source": [
    "### TASK-18\n",
    "### Find average \"Petal Length\" for each Class type\n",
    "### Find average \"Petal Width\" for each Class type"
   ]
  },
  {
   "cell_type": "code",
   "execution_count": 62,
   "metadata": {},
   "outputs": [
    {
     "name": "stdout",
     "output_type": "stream",
     "text": [
      "Iris-setosa\n",
      "1.464\n",
      "0.244\n",
      "Iris-versicolor\n",
      "4.26\n",
      "1.3259999999999998\n",
      "Iris-virginica\n",
      "5.5520000000000005\n",
      "2.0260000000000002\n"
     ]
    }
   ],
   "source": [
    "for type in ['Iris-setosa', 'Iris-versicolor', 'Iris-virginica']:\n",
    "    print(type)\n",
    "    print(iris[iris['Class'] == type]['Petal Length'].mean())\n",
    "    print(iris[iris['Class'] == type][' Petal Width'].mean())"
   ]
  },
  {
   "cell_type": "code",
   "execution_count": null,
   "metadata": {},
   "outputs": [],
   "source": []
  },
  {
   "cell_type": "markdown",
   "metadata": {},
   "source": [
    "### TASK-19\n",
    "### Print first 10 rows in the \"Iris\" dataframe\n",
    "### Print last 10 rows in the \"Iris\" dataframe"
   ]
  },
  {
   "cell_type": "code",
   "execution_count": 64,
   "metadata": {},
   "outputs": [
    {
     "name": "stdout",
     "output_type": "stream",
     "text": [
      "   Sepal Length  Sepal Width  Petal Length   Petal Width        Class\n",
      "0           5.1          3.5           1.4           0.2  Iris-setosa\n",
      "1           4.9          3.0           1.4           0.2  Iris-setosa\n",
      "2           4.7          3.2           1.3           0.2  Iris-setosa\n",
      "3           4.6          3.1           1.5           0.2  Iris-setosa\n",
      "4           5.0          3.6           1.4           0.2  Iris-setosa\n",
      "5           5.4          3.9           1.7           0.4  Iris-setosa\n",
      "6           4.6          3.4           1.4           0.3  Iris-setosa\n",
      "7           5.0          3.4           1.5           0.2  Iris-setosa\n",
      "8           4.4          2.9           1.4           0.2  Iris-setosa\n",
      "9           4.9          3.1           1.5           0.1  Iris-setosa\n"
     ]
    }
   ],
   "source": [
    "print(iris[:10])"
   ]
  },
  {
   "cell_type": "code",
   "execution_count": 65,
   "metadata": {},
   "outputs": [
    {
     "name": "stdout",
     "output_type": "stream",
     "text": [
      "     Sepal Length  Sepal Width  Petal Length   Petal Width           Class\n",
      "0             5.1          3.5           1.4           0.2     Iris-setosa\n",
      "1             4.9          3.0           1.4           0.2     Iris-setosa\n",
      "2             4.7          3.2           1.3           0.2     Iris-setosa\n",
      "3             4.6          3.1           1.5           0.2     Iris-setosa\n",
      "4             5.0          3.6           1.4           0.2     Iris-setosa\n",
      "5             5.4          3.9           1.7           0.4     Iris-setosa\n",
      "6             4.6          3.4           1.4           0.3     Iris-setosa\n",
      "7             5.0          3.4           1.5           0.2     Iris-setosa\n",
      "8             4.4          2.9           1.4           0.2     Iris-setosa\n",
      "9             4.9          3.1           1.5           0.1     Iris-setosa\n",
      "10            5.4          3.7           1.5           0.2     Iris-setosa\n",
      "11            4.8          3.4           1.6           0.2     Iris-setosa\n",
      "12            4.8          3.0           1.4           0.1     Iris-setosa\n",
      "13            4.3          3.0           1.1           0.1     Iris-setosa\n",
      "14            5.8          4.0           1.2           0.2     Iris-setosa\n",
      "15            5.7          4.4           1.5           0.4     Iris-setosa\n",
      "16            5.4          3.9           1.3           0.4     Iris-setosa\n",
      "17            5.1          3.5           1.4           0.3     Iris-setosa\n",
      "18            5.7          3.8           1.7           0.3     Iris-setosa\n",
      "19            5.1          3.8           1.5           0.3     Iris-setosa\n",
      "20            5.4          3.4           1.7           0.2     Iris-setosa\n",
      "21            5.1          3.7           1.5           0.4     Iris-setosa\n",
      "22            4.6          3.6           1.0           0.2     Iris-setosa\n",
      "23            5.1          3.3           1.7           0.5     Iris-setosa\n",
      "24            4.8          3.4           1.9           0.2     Iris-setosa\n",
      "25            5.0          3.0           1.6           0.2     Iris-setosa\n",
      "26            5.0          3.4           1.6           0.4     Iris-setosa\n",
      "27            5.2          3.5           1.5           0.2     Iris-setosa\n",
      "28            5.2          3.4           1.4           0.2     Iris-setosa\n",
      "29            4.7          3.2           1.6           0.2     Iris-setosa\n",
      "..            ...          ...           ...           ...             ...\n",
      "110           6.5          3.2           5.1           2.0  Iris-virginica\n",
      "111           6.4          2.7           5.3           1.9  Iris-virginica\n",
      "112           6.8          3.0           5.5           2.1  Iris-virginica\n",
      "113           5.7          2.5           5.0           2.0  Iris-virginica\n",
      "114           5.8          2.8           5.1           2.4  Iris-virginica\n",
      "115           6.4          3.2           5.3           2.3  Iris-virginica\n",
      "116           6.5          3.0           5.5           1.8  Iris-virginica\n",
      "117           7.7          3.8           6.7           2.2  Iris-virginica\n",
      "118           7.7          2.6           6.9           2.3  Iris-virginica\n",
      "119           6.0          2.2           5.0           1.5  Iris-virginica\n",
      "120           6.9          3.2           5.7           2.3  Iris-virginica\n",
      "121           5.6          2.8           4.9           2.0  Iris-virginica\n",
      "122           7.7          2.8           6.7           2.0  Iris-virginica\n",
      "123           6.3          2.7           4.9           1.8  Iris-virginica\n",
      "124           6.7          3.3           5.7           2.1  Iris-virginica\n",
      "125           7.2          3.2           6.0           1.8  Iris-virginica\n",
      "126           6.2          2.8           4.8           1.8  Iris-virginica\n",
      "127           6.1          3.0           4.9           1.8  Iris-virginica\n",
      "128           6.4          2.8           5.6           2.1  Iris-virginica\n",
      "129           7.2          3.0           5.8           1.6  Iris-virginica\n",
      "130           7.4          2.8           6.1           1.9  Iris-virginica\n",
      "131           7.9          3.8           6.4           2.0  Iris-virginica\n",
      "132           6.4          2.8           5.6           2.2  Iris-virginica\n",
      "133           6.3          2.8           5.1           1.5  Iris-virginica\n",
      "134           6.1          2.6           5.6           1.4  Iris-virginica\n",
      "135           7.7          3.0           6.1           2.3  Iris-virginica\n",
      "136           6.3          3.4           5.6           2.4  Iris-virginica\n",
      "137           6.4          3.1           5.5           1.8  Iris-virginica\n",
      "138           6.0          3.0           4.8           1.8  Iris-virginica\n",
      "139           6.9          3.1           5.4           2.1  Iris-virginica\n",
      "\n",
      "[140 rows x 5 columns]\n"
     ]
    }
   ],
   "source": [
    "print(iris[:])"
   ]
  },
  {
   "cell_type": "code",
   "execution_count": null,
   "metadata": {},
   "outputs": [],
   "source": []
  }
 ],
 "metadata": {
  "kernelspec": {
   "display_name": "Python 3",
   "language": "python",
   "name": "python3"
  },
  "language_info": {
   "codemirror_mode": {
    "name": "ipython",
    "version": 3
   },
   "file_extension": ".py",
   "mimetype": "text/x-python",
   "name": "python",
   "nbconvert_exporter": "python",
   "pygments_lexer": "ipython3",
   "version": "3.7.2"
  }
 },
 "nbformat": 4,
 "nbformat_minor": 2
}
